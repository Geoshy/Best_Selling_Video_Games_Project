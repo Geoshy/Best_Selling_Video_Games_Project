{
 "cells": [
  {
   "cell_type": "code",
   "execution_count": 8,
   "metadata": {},
   "outputs": [
    {
     "name": "stdout",
     "output_type": "stream",
     "text": [
      "Number of tables found: 4\n",
      "All tables saved to CSV files.\n"
     ]
    }
   ],
   "source": [
    "import pandas as pd\n",
    "\n",
    "# URL of the website\n",
    "url = \"https://en.wikipedia.org/wiki/List_of_best-selling_video_games\"\n",
    "\n",
    "# Use pandas to read tables from the webpage\n",
    "tables = pd.read_html(url)\n",
    "\n",
    "# Check how many tables were extracted\n",
    "print(f\"Number of tables found: {len(tables)}\")\n",
    "\n",
    "# Iterate through the tables and save each to a CSV file\n",
    "for i, table in enumerate(tables):\n",
    "    # Construct the filename (e.g., table_1.csv, table_2.csv, etc.)\n",
    "    filename = f\"table_{i + 1}.csv\"\n",
    "\n",
    "    # Save the DataFrame to a CSV file\n",
    "    table.to_csv(filename, index=False, encoding='utf-8')  # index=False avoids saving the DataFrame index\n",
    "    \n",
    "print(\"All tables saved to CSV files.\")"
   ]
  }
 ],
 "metadata": {
  "kernelspec": {
   "display_name": "Python 3",
   "language": "python",
   "name": "python3"
  },
  "language_info": {
   "codemirror_mode": {
    "name": "ipython",
    "version": 3
   },
   "file_extension": ".py",
   "mimetype": "text/x-python",
   "name": "python",
   "nbconvert_exporter": "python",
   "pygments_lexer": "ipython3",
   "version": "3.12.4"
  }
 },
 "nbformat": 4,
 "nbformat_minor": 2
}
