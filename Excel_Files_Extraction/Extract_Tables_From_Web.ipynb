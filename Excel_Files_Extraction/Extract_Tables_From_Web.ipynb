{
 "cells": [
  {
   "cell_type": "markdown",
   "metadata": {},
   "source": [
    "## **Extract Tables From Web _Wikipedia_ (List of best-selling video games):**"
   ]
  },
  {
   "cell_type": "code",
   "execution_count": null,
   "metadata": {},
   "outputs": [
    {
     "name": "stdout",
     "output_type": "stream",
     "text": [
      "The Number Of Tables = 4\n",
      "Saving Table_1\n",
      "Saving Table_2\n",
      "Saving Table_3\n",
      "Saving Table_4\n"
     ]
    }
   ],
   "source": [
    "import pandas as pd\n",
    "\n",
    "url = \"https://en.wikipedia.org/wiki/List_of_best-selling_video_games\"\n",
    "\n",
    "tables = pd.read_html(url)\n",
    "\n",
    "print(f\"The Number Of Tables = {len(tables)}\")\n",
    "\n",
    "for index, table in enumerate(tables):\n",
    "    print(f\"Saving Table_{index + 1}\")\n",
    "    file_name = f\"table_{index + 1}.xlsx\"\n",
    "    table.to_excel(\n",
    "        file_name,\n",
    "        index=False,\n",
    "    )"
   ]
  }
 ],
 "metadata": {
  "kernelspec": {
   "display_name": "Python 3",
   "language": "python",
   "name": "python3"
  },
  "language_info": {
   "codemirror_mode": {
    "name": "ipython",
    "version": 3
   },
   "file_extension": ".py",
   "mimetype": "text/x-python",
   "name": "python",
   "nbconvert_exporter": "python",
   "pygments_lexer": "ipython3",
   "version": "3.12.4"
  }
 },
 "nbformat": 4,
 "nbformat_minor": 2
}
